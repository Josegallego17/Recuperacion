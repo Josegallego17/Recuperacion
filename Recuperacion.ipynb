{
  "nbformat": 4,
  "nbformat_minor": 0,
  "metadata": {
    "colab": {
      "provenance": [],
      "authorship_tag": "ABX9TyNr3NXwWgBEv5zmG0DVYg64",
      "include_colab_link": true
    },
    "kernelspec": {
      "name": "python3",
      "display_name": "Python 3"
    },
    "language_info": {
      "name": "python"
    }
  },
  "cells": [
    {
      "cell_type": "markdown",
      "metadata": {
        "id": "view-in-github",
        "colab_type": "text"
      },
      "source": [
        "<a href=\"https://colab.research.google.com/github/Josegallego17/Recuperacion/blob/main/Recuperacion.ipynb\" target=\"_parent\"><img src=\"https://colab.research.google.com/assets/colab-badge.svg\" alt=\"Open In Colab\"/></a>"
      ]
    },
    {
      "cell_type": "code",
      "execution_count": 10,
      "metadata": {
        "colab": {
          "base_uri": "https://localhost:8080/"
        },
        "id": "ayX6F59z2jJO",
        "outputId": "f83cd853-65db-4ed1-ea76-80fe354ada38"
      },
      "outputs": [
        {
          "output_type": "stream",
          "name": "stdout",
          "text": [
            "Ingrese los Km a recorrer 25\n",
            "Ingrese los minutos de espera 10\n",
            "14250\n"
          ]
        }
      ],
      "source": [
        "KM_a_recorrer = int(input(\"Ingrese los Km a recorrer\"))\n",
        "Minuto = int(input(\"Ingrese los minutos de espera\"))\n",
        "Tarifa = 3000\n",
        "Tarifa_km = 0\n",
        "\n",
        "if KM_a_recorrer <= 10:\n",
        "  Tarifa_km = KM_a_recorrer * 5000\n",
        "elif KM_a_recorrer > 10:\n",
        "  Tarifa_km = (KM_a_recorrer - 10) * 350 + 5000\n",
        "elif KM_a_recorrer >= 50:\n",
        "  Tarifa_kmn = (KM_a_recorrer - 10) * 200 +19000\n",
        "\n",
        "Tarifa_espera = (Minuto * 100)\n",
        "\n",
        "  \n",
        "Costo = Tarifa + Tarifa_espera + Tarifa_km\n",
        "print(Costo)\n",
        "\n",
        "  \n",
        "\n",
        "\n",
        "\n",
        "\n"
      ]
    }
  ]
}